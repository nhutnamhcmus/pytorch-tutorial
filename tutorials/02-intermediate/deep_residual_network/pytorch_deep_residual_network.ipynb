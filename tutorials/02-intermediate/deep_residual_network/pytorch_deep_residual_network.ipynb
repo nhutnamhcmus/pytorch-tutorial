{
 "cells": [
  {
   "cell_type": "markdown",
   "metadata": {
    "id": "UxbTvATvgs7h"
   },
   "source": [
    "## Import thư viện PyTorch"
   ]
  },
  {
   "cell_type": "code",
   "execution_count": 1,
   "metadata": {
    "id": "-kVdkPt2gs7m"
   },
   "outputs": [],
   "source": [
    "import torch \n",
    "import torch.nn as nn\n",
    "import torchvision\n",
    "import torchvision.transforms as transforms"
   ]
  },
  {
   "cell_type": "markdown",
   "metadata": {
    "id": "6tVwxAT3gs7n"
   },
   "source": [
    "## Thiết lập device"
   ]
  },
  {
   "cell_type": "code",
   "execution_count": 2,
   "metadata": {
    "colab": {
     "base_uri": "https://localhost:8080/"
    },
    "id": "3dD-kY6ygs7o",
    "outputId": "32a30c11-3f3f-43ed-cdf0-6d90abd054b1"
   },
   "outputs": [
    {
     "data": {
      "text/plain": [
       "device(type='cuda')"
      ]
     },
     "execution_count": 2,
     "metadata": {
      "tags": []
     },
     "output_type": "execute_result"
    }
   ],
   "source": [
    "device = torch.device('cuda' if torch.cuda.is_available() else 'cpu')\n",
    "device"
   ]
  },
  {
   "cell_type": "markdown",
   "metadata": {
    "id": "ay08jeKlgs7q"
   },
   "source": [
    "## Đặt các siêu tham số (Hyper-parameters)"
   ]
  },
  {
   "cell_type": "code",
   "execution_count": 3,
   "metadata": {
    "id": "38Zds2CGgs7r"
   },
   "outputs": [],
   "source": [
    "# Số lượng epochs\n",
    "num_epochs = 100\n",
    "\n",
    "# Kích thước mỗi batch\n",
    "batch_size = 100\n",
    "\n",
    "# Tốc độ học - Learning rate\n",
    "learning_rate = 0.001"
   ]
  },
  {
   "cell_type": "markdown",
   "metadata": {
    "id": "lEQ0GCFDgs7s"
   },
   "source": [
    "## Module tiền xử lý ảnh"
   ]
  },
  {
   "cell_type": "code",
   "execution_count": 4,
   "metadata": {
    "id": "yx5I8gzmgs7t"
   },
   "outputs": [],
   "source": [
    "# Image preprocessing modules\n",
    "transform = transforms.Compose([\n",
    "    transforms.Pad(4),\n",
    "    transforms.RandomHorizontalFlip(),\n",
    "    transforms.RandomCrop(32),\n",
    "    transforms.ToTensor()])"
   ]
  },
  {
   "cell_type": "markdown",
   "metadata": {
    "id": "tuLHINp4gs7u"
   },
   "source": [
    "## Load bộ dữ liệu CIFAR-10"
   ]
  },
  {
   "cell_type": "code",
   "execution_count": 5,
   "metadata": {
    "colab": {
     "base_uri": "https://localhost:8080/",
     "height": 103,
     "referenced_widgets": [
      "5ae56cdff92e4fdc8e4fc6ec0d783e21",
      "358550d3126e4530a6992bba9c71e0b1",
      "811910b8500b4c3cb26c42284b1292b9",
      "d338a091cee24d98a14ab8d6601a3c05",
      "6fb9c4eed3ec4304bf4abc6bb4343dea",
      "2d3c3cf4597442bba659e789e8049f27",
      "674868807f204c27909ce40d69cc757c",
      "55d53761192c4e738abad7331c5f841b"
     ]
    },
    "id": "7QVtDpf0gs7u",
    "outputId": "8a2aaffd-b129-465d-f054-eea38084cb4d"
   },
   "outputs": [
    {
     "name": "stdout",
     "output_type": "stream",
     "text": [
      "Downloading https://www.cs.toronto.edu/~kriz/cifar-10-python.tar.gz to ../../data/cifar-10-python.tar.gz\n"
     ]
    },
    {
     "data": {
      "application/vnd.jupyter.widget-view+json": {
       "model_id": "5ae56cdff92e4fdc8e4fc6ec0d783e21",
       "version_major": 2,
       "version_minor": 0
      },
      "text/plain": [
       "HBox(children=(FloatProgress(value=0.0, max=170498071.0), HTML(value='')))"
      ]
     },
     "metadata": {
      "tags": []
     },
     "output_type": "display_data"
    },
    {
     "name": "stdout",
     "output_type": "stream",
     "text": [
      "\n",
      "Extracting ../../data/cifar-10-python.tar.gz to ../../data/\n"
     ]
    }
   ],
   "source": [
    "# Dữ liệu tập huấn luyện\n",
    "train_dataset = torchvision.datasets.CIFAR10(root='../../data/',\n",
    "                                             train=True, \n",
    "                                             transform=transform,\n",
    "                                             download=True)\n",
    "\n",
    "# Dữ liệu tập kiểm tra\n",
    "test_dataset = torchvision.datasets.CIFAR10(root='../../data/',\n",
    "                                            train=False, \n",
    "                                            transform=transforms.ToTensor())"
   ]
  },
  {
   "cell_type": "markdown",
   "metadata": {
    "id": "aTUoac09gs7v"
   },
   "source": [
    "## DataLoader"
   ]
  },
  {
   "cell_type": "code",
   "execution_count": 6,
   "metadata": {
    "id": "3w06Kumxgs7w"
   },
   "outputs": [],
   "source": [
    "# DataLoader cho tập huấn luyện\n",
    "train_loader = torch.utils.data.DataLoader(dataset=train_dataset,\n",
    "                                           batch_size=batch_size,\n",
    "                                           shuffle=True)\n",
    "\n",
    "# DataLoader cho tập kiểm tra\n",
    "test_loader = torch.utils.data.DataLoader(dataset=test_dataset,\n",
    "                                          batch_size=batch_size,\n",
    "                                          shuffle=False)"
   ]
  },
  {
   "cell_type": "markdown",
   "metadata": {
    "id": "TQ1DQh8Kgs7w"
   },
   "source": [
    "## Mô hình Deep Residual Networks"
   ]
  },
  {
   "cell_type": "code",
   "execution_count": 7,
   "metadata": {
    "id": "phDMWEkfgs7x"
   },
   "outputs": [],
   "source": [
    "# 3x3 convolution\n",
    "def conv3x3(in_channels, out_channels, stride=1):\n",
    "    return nn.Conv2d(in_channels, out_channels, kernel_size=3, \n",
    "                     stride=stride, padding=1, bias=False)"
   ]
  },
  {
   "cell_type": "code",
   "execution_count": 8,
   "metadata": {
    "id": "pLYkr3sCgs7x"
   },
   "outputs": [],
   "source": [
    "# Residual block\n",
    "class ResidualBlock(nn.Module):\n",
    "    def __init__(self, in_channels, out_channels, stride=1, downsample=None):\n",
    "        super(ResidualBlock, self).__init__()\n",
    "        self.conv1 = conv3x3(in_channels, out_channels, stride)\n",
    "        self.bn1 = nn.BatchNorm2d(out_channels)\n",
    "        self.relu = nn.ReLU(inplace=True)\n",
    "        self.conv2 = conv3x3(out_channels, out_channels)\n",
    "        self.bn2 = nn.BatchNorm2d(out_channels)\n",
    "        self.downsample = downsample\n",
    "        \n",
    "    def forward(self, x):\n",
    "        residual = x\n",
    "        out = self.conv1(x)\n",
    "        out = self.bn1(out)\n",
    "        out = self.relu(out)\n",
    "        out = self.conv2(out)\n",
    "        out = self.bn2(out)\n",
    "        if self.downsample:\n",
    "            residual = self.downsample(x)\n",
    "        out += residual\n",
    "        out = self.relu(out)\n",
    "        return out"
   ]
  },
  {
   "cell_type": "code",
   "execution_count": 9,
   "metadata": {
    "id": "2vgR3uujgs7x"
   },
   "outputs": [],
   "source": [
    "# ResNet\n",
    "class ResNet(nn.Module):\n",
    "    def __init__(self, block, layers, num_classes=10):\n",
    "        super(ResNet, self).__init__()\n",
    "        self.in_channels = 16\n",
    "        self.conv = conv3x3(3, 16)\n",
    "        self.bn = nn.BatchNorm2d(16)\n",
    "        self.relu = nn.ReLU(inplace=True)\n",
    "        self.layer1 = self.make_layer(block, 16, layers[0])\n",
    "        self.layer2 = self.make_layer(block, 32, layers[1], 2)\n",
    "        self.layer3 = self.make_layer(block, 64, layers[2], 2)\n",
    "        self.avg_pool = nn.AvgPool2d(8)\n",
    "        self.fc = nn.Linear(64, num_classes)\n",
    "        \n",
    "    def make_layer(self, block, out_channels, blocks, stride=1):\n",
    "        downsample = None\n",
    "        if (stride != 1) or (self.in_channels != out_channels):\n",
    "            downsample = nn.Sequential(\n",
    "                conv3x3(self.in_channels, out_channels, stride=stride),\n",
    "                nn.BatchNorm2d(out_channels))\n",
    "        layers = []\n",
    "        layers.append(block(self.in_channels, out_channels, stride, downsample))\n",
    "        self.in_channels = out_channels\n",
    "        for i in range(1, blocks):\n",
    "            layers.append(block(out_channels, out_channels))\n",
    "        return nn.Sequential(*layers)\n",
    "    \n",
    "    def forward(self, x):\n",
    "        out = self.conv(x)\n",
    "        out = self.bn(out)\n",
    "        out = self.relu(out)\n",
    "        out = self.layer1(out)\n",
    "        out = self.layer2(out)\n",
    "        out = self.layer3(out)\n",
    "        out = self.avg_pool(out)\n",
    "        out = out.view(out.size(0), -1)\n",
    "        out = self.fc(out)\n",
    "        return out"
   ]
  },
  {
   "cell_type": "code",
   "execution_count": 10,
   "metadata": {
    "id": "TYzQ7q92gs7y"
   },
   "outputs": [],
   "source": [
    "model = ResNet(ResidualBlock, [2, 2, 2]).to(device)"
   ]
  },
  {
   "cell_type": "markdown",
   "metadata": {
    "id": "zcNC7L-dgs7y"
   },
   "source": [
    "## Hàm mất mát (loss function) và bộ tối ưu hóa (optimizer)"
   ]
  },
  {
   "cell_type": "code",
   "execution_count": 11,
   "metadata": {
    "id": "b35oq1r3gs7y"
   },
   "outputs": [],
   "source": [
    "criterion = nn.CrossEntropyLoss()\n",
    "optimizer = torch.optim.Adam(model.parameters(), lr=learning_rate)"
   ]
  },
  {
   "cell_type": "markdown",
   "metadata": {
    "id": "EQhSE1U_gs7z"
   },
   "source": [
    "## Cập nhật tốc độ học"
   ]
  },
  {
   "cell_type": "code",
   "execution_count": 12,
   "metadata": {
    "id": "hGHw4LHbgs7z"
   },
   "outputs": [],
   "source": [
    "def update_lr(optimizer, lr):    \n",
    "    for param_group in optimizer.param_groups:\n",
    "        param_group['lr'] = lr"
   ]
  },
  {
   "cell_type": "markdown",
   "metadata": {
    "id": "XF8IfZK7gs70"
   },
   "source": [
    "## Huấn luyện mô hình"
   ]
  },
  {
   "cell_type": "code",
   "execution_count": 13,
   "metadata": {
    "colab": {
     "base_uri": "https://localhost:8080/"
    },
    "id": "UQle2-3rgs70",
    "outputId": "e9b0724d-b751-43b3-ee48-3bb822b4b509"
   },
   "outputs": [
    {
     "name": "stdout",
     "output_type": "stream",
     "text": [
      "Epoch [1/100], Step [100/500] Loss: 1.6143\n",
      "Epoch [1/100], Step [200/500] Loss: 1.3604\n",
      "Epoch [1/100], Step [300/500] Loss: 1.3483\n",
      "Epoch [1/100], Step [400/500] Loss: 1.2547\n",
      "Epoch [1/100], Step [500/500] Loss: 1.1669\n",
      "Epoch [2/100], Step [100/500] Loss: 0.9704\n",
      "Epoch [2/100], Step [200/500] Loss: 0.9912\n",
      "Epoch [2/100], Step [300/500] Loss: 1.0779\n",
      "Epoch [2/100], Step [400/500] Loss: 1.1030\n",
      "Epoch [2/100], Step [500/500] Loss: 0.9760\n",
      "Epoch [3/100], Step [100/500] Loss: 0.8337\n",
      "Epoch [3/100], Step [200/500] Loss: 0.9009\n",
      "Epoch [3/100], Step [300/500] Loss: 0.8012\n",
      "Epoch [3/100], Step [400/500] Loss: 0.8612\n",
      "Epoch [3/100], Step [500/500] Loss: 0.8065\n",
      "Epoch [4/100], Step [100/500] Loss: 0.7623\n",
      "Epoch [4/100], Step [200/500] Loss: 0.7870\n",
      "Epoch [4/100], Step [300/500] Loss: 0.9231\n",
      "Epoch [4/100], Step [400/500] Loss: 0.8716\n",
      "Epoch [4/100], Step [500/500] Loss: 0.7304\n",
      "Epoch [5/100], Step [100/500] Loss: 0.8867\n",
      "Epoch [5/100], Step [200/500] Loss: 0.7310\n",
      "Epoch [5/100], Step [300/500] Loss: 0.5984\n",
      "Epoch [5/100], Step [400/500] Loss: 0.6249\n",
      "Epoch [5/100], Step [500/500] Loss: 0.8238\n",
      "Epoch [6/100], Step [100/500] Loss: 0.5219\n",
      "Epoch [6/100], Step [200/500] Loss: 0.6701\n",
      "Epoch [6/100], Step [300/500] Loss: 0.5766\n",
      "Epoch [6/100], Step [400/500] Loss: 0.5621\n",
      "Epoch [6/100], Step [500/500] Loss: 0.5901\n",
      "Epoch [7/100], Step [100/500] Loss: 0.6282\n",
      "Epoch [7/100], Step [200/500] Loss: 0.6421\n",
      "Epoch [7/100], Step [300/500] Loss: 0.3984\n",
      "Epoch [7/100], Step [400/500] Loss: 0.3457\n",
      "Epoch [7/100], Step [500/500] Loss: 0.6654\n",
      "Epoch [8/100], Step [100/500] Loss: 0.4834\n",
      "Epoch [8/100], Step [200/500] Loss: 0.7437\n",
      "Epoch [8/100], Step [300/500] Loss: 0.5695\n",
      "Epoch [8/100], Step [400/500] Loss: 0.4998\n",
      "Epoch [8/100], Step [500/500] Loss: 0.5662\n",
      "Epoch [9/100], Step [100/500] Loss: 0.7303\n",
      "Epoch [9/100], Step [200/500] Loss: 0.5845\n",
      "Epoch [9/100], Step [300/500] Loss: 0.4391\n",
      "Epoch [9/100], Step [400/500] Loss: 0.5559\n",
      "Epoch [9/100], Step [500/500] Loss: 0.5256\n",
      "Epoch [10/100], Step [100/500] Loss: 0.4984\n",
      "Epoch [10/100], Step [200/500] Loss: 0.5932\n",
      "Epoch [10/100], Step [300/500] Loss: 0.4458\n",
      "Epoch [10/100], Step [400/500] Loss: 0.3859\n",
      "Epoch [10/100], Step [500/500] Loss: 0.3989\n",
      "Epoch [11/100], Step [100/500] Loss: 0.5132\n",
      "Epoch [11/100], Step [200/500] Loss: 0.6662\n",
      "Epoch [11/100], Step [300/500] Loss: 0.4577\n",
      "Epoch [11/100], Step [400/500] Loss: 0.6422\n",
      "Epoch [11/100], Step [500/500] Loss: 0.4247\n",
      "Epoch [12/100], Step [100/500] Loss: 0.4691\n",
      "Epoch [12/100], Step [200/500] Loss: 0.4635\n",
      "Epoch [12/100], Step [300/500] Loss: 0.4844\n",
      "Epoch [12/100], Step [400/500] Loss: 0.5959\n",
      "Epoch [12/100], Step [500/500] Loss: 0.5001\n",
      "Epoch [13/100], Step [100/500] Loss: 0.4742\n",
      "Epoch [13/100], Step [200/500] Loss: 0.5005\n",
      "Epoch [13/100], Step [300/500] Loss: 0.6424\n",
      "Epoch [13/100], Step [400/500] Loss: 0.5233\n",
      "Epoch [13/100], Step [500/500] Loss: 0.3218\n",
      "Epoch [14/100], Step [100/500] Loss: 0.6949\n",
      "Epoch [14/100], Step [200/500] Loss: 0.4005\n",
      "Epoch [14/100], Step [300/500] Loss: 0.6495\n",
      "Epoch [14/100], Step [400/500] Loss: 0.4789\n",
      "Epoch [14/100], Step [500/500] Loss: 0.5112\n",
      "Epoch [15/100], Step [100/500] Loss: 0.4671\n",
      "Epoch [15/100], Step [200/500] Loss: 0.5760\n",
      "Epoch [15/100], Step [300/500] Loss: 0.4495\n",
      "Epoch [15/100], Step [400/500] Loss: 0.3699\n",
      "Epoch [15/100], Step [500/500] Loss: 0.4009\n",
      "Epoch [16/100], Step [100/500] Loss: 0.2616\n",
      "Epoch [16/100], Step [200/500] Loss: 0.3408\n",
      "Epoch [16/100], Step [300/500] Loss: 0.4809\n",
      "Epoch [16/100], Step [400/500] Loss: 0.4565\n",
      "Epoch [16/100], Step [500/500] Loss: 0.4750\n",
      "Epoch [17/100], Step [100/500] Loss: 0.3785\n",
      "Epoch [17/100], Step [200/500] Loss: 0.3459\n",
      "Epoch [17/100], Step [300/500] Loss: 0.3980\n",
      "Epoch [17/100], Step [400/500] Loss: 0.4788\n",
      "Epoch [17/100], Step [500/500] Loss: 0.3581\n",
      "Epoch [18/100], Step [100/500] Loss: 0.3065\n",
      "Epoch [18/100], Step [200/500] Loss: 0.4439\n",
      "Epoch [18/100], Step [300/500] Loss: 0.3594\n",
      "Epoch [18/100], Step [400/500] Loss: 0.4856\n",
      "Epoch [18/100], Step [500/500] Loss: 0.3409\n",
      "Epoch [19/100], Step [100/500] Loss: 0.4929\n",
      "Epoch [19/100], Step [200/500] Loss: 0.3826\n",
      "Epoch [19/100], Step [300/500] Loss: 0.3471\n",
      "Epoch [19/100], Step [400/500] Loss: 0.4079\n",
      "Epoch [19/100], Step [500/500] Loss: 0.3950\n",
      "Epoch [20/100], Step [100/500] Loss: 0.4003\n",
      "Epoch [20/100], Step [200/500] Loss: 0.3234\n",
      "Epoch [20/100], Step [300/500] Loss: 0.4689\n",
      "Epoch [20/100], Step [400/500] Loss: 0.4356\n",
      "Epoch [20/100], Step [500/500] Loss: 0.3603\n",
      "Epoch [21/100], Step [100/500] Loss: 0.3376\n",
      "Epoch [21/100], Step [200/500] Loss: 0.3348\n",
      "Epoch [21/100], Step [300/500] Loss: 0.2170\n",
      "Epoch [21/100], Step [400/500] Loss: 0.4031\n",
      "Epoch [21/100], Step [500/500] Loss: 0.4089\n",
      "Epoch [22/100], Step [100/500] Loss: 0.3070\n",
      "Epoch [22/100], Step [200/500] Loss: 0.1300\n",
      "Epoch [22/100], Step [300/500] Loss: 0.2642\n",
      "Epoch [22/100], Step [400/500] Loss: 0.3572\n",
      "Epoch [22/100], Step [500/500] Loss: 0.3156\n",
      "Epoch [23/100], Step [100/500] Loss: 0.2862\n",
      "Epoch [23/100], Step [200/500] Loss: 0.3289\n",
      "Epoch [23/100], Step [300/500] Loss: 0.2615\n",
      "Epoch [23/100], Step [400/500] Loss: 0.1853\n",
      "Epoch [23/100], Step [500/500] Loss: 0.3192\n",
      "Epoch [24/100], Step [100/500] Loss: 0.2521\n",
      "Epoch [24/100], Step [200/500] Loss: 0.2774\n",
      "Epoch [24/100], Step [300/500] Loss: 0.3711\n",
      "Epoch [24/100], Step [400/500] Loss: 0.3658\n",
      "Epoch [24/100], Step [500/500] Loss: 0.4458\n",
      "Epoch [25/100], Step [100/500] Loss: 0.2833\n",
      "Epoch [25/100], Step [200/500] Loss: 0.2026\n",
      "Epoch [25/100], Step [300/500] Loss: 0.2302\n",
      "Epoch [25/100], Step [400/500] Loss: 0.1656\n",
      "Epoch [25/100], Step [500/500] Loss: 0.2023\n",
      "Epoch [26/100], Step [100/500] Loss: 0.3499\n",
      "Epoch [26/100], Step [200/500] Loss: 0.2380\n",
      "Epoch [26/100], Step [300/500] Loss: 0.2086\n",
      "Epoch [26/100], Step [400/500] Loss: 0.2949\n",
      "Epoch [26/100], Step [500/500] Loss: 0.1992\n",
      "Epoch [27/100], Step [100/500] Loss: 0.1452\n",
      "Epoch [27/100], Step [200/500] Loss: 0.2586\n",
      "Epoch [27/100], Step [300/500] Loss: 0.2793\n",
      "Epoch [27/100], Step [400/500] Loss: 0.2295\n",
      "Epoch [27/100], Step [500/500] Loss: 0.2257\n",
      "Epoch [28/100], Step [100/500] Loss: 0.2603\n",
      "Epoch [28/100], Step [200/500] Loss: 0.2395\n",
      "Epoch [28/100], Step [300/500] Loss: 0.1876\n",
      "Epoch [28/100], Step [400/500] Loss: 0.3054\n",
      "Epoch [28/100], Step [500/500] Loss: 0.2220\n",
      "Epoch [29/100], Step [100/500] Loss: 0.2466\n",
      "Epoch [29/100], Step [200/500] Loss: 0.3581\n",
      "Epoch [29/100], Step [300/500] Loss: 0.1455\n",
      "Epoch [29/100], Step [400/500] Loss: 0.3050\n",
      "Epoch [29/100], Step [500/500] Loss: 0.1926\n",
      "Epoch [30/100], Step [100/500] Loss: 0.1906\n",
      "Epoch [30/100], Step [200/500] Loss: 0.3669\n",
      "Epoch [30/100], Step [300/500] Loss: 0.2408\n",
      "Epoch [30/100], Step [400/500] Loss: 0.1795\n",
      "Epoch [30/100], Step [500/500] Loss: 0.4383\n",
      "Epoch [31/100], Step [100/500] Loss: 0.1756\n",
      "Epoch [31/100], Step [200/500] Loss: 0.1974\n",
      "Epoch [31/100], Step [300/500] Loss: 0.2482\n",
      "Epoch [31/100], Step [400/500] Loss: 0.1520\n",
      "Epoch [31/100], Step [500/500] Loss: 0.1357\n",
      "Epoch [32/100], Step [100/500] Loss: 0.2673\n",
      "Epoch [32/100], Step [200/500] Loss: 0.1975\n",
      "Epoch [32/100], Step [300/500] Loss: 0.2459\n",
      "Epoch [32/100], Step [400/500] Loss: 0.2394\n",
      "Epoch [32/100], Step [500/500] Loss: 0.2132\n",
      "Epoch [33/100], Step [100/500] Loss: 0.2146\n",
      "Epoch [33/100], Step [200/500] Loss: 0.1362\n",
      "Epoch [33/100], Step [300/500] Loss: 0.1703\n",
      "Epoch [33/100], Step [400/500] Loss: 0.1560\n",
      "Epoch [33/100], Step [500/500] Loss: 0.2132\n",
      "Epoch [34/100], Step [100/500] Loss: 0.3261\n",
      "Epoch [34/100], Step [200/500] Loss: 0.2578\n",
      "Epoch [34/100], Step [300/500] Loss: 0.3157\n",
      "Epoch [34/100], Step [400/500] Loss: 0.3403\n",
      "Epoch [34/100], Step [500/500] Loss: 0.2736\n",
      "Epoch [35/100], Step [100/500] Loss: 0.2979\n",
      "Epoch [35/100], Step [200/500] Loss: 0.1668\n",
      "Epoch [35/100], Step [300/500] Loss: 0.1546\n",
      "Epoch [35/100], Step [400/500] Loss: 0.2474\n",
      "Epoch [35/100], Step [500/500] Loss: 0.2399\n",
      "Epoch [36/100], Step [100/500] Loss: 0.1176\n",
      "Epoch [36/100], Step [200/500] Loss: 0.3206\n",
      "Epoch [36/100], Step [300/500] Loss: 0.1290\n",
      "Epoch [36/100], Step [400/500] Loss: 0.2465\n",
      "Epoch [36/100], Step [500/500] Loss: 0.2024\n",
      "Epoch [37/100], Step [100/500] Loss: 0.0994\n",
      "Epoch [37/100], Step [200/500] Loss: 0.2423\n",
      "Epoch [37/100], Step [300/500] Loss: 0.2908\n",
      "Epoch [37/100], Step [400/500] Loss: 0.1845\n",
      "Epoch [37/100], Step [500/500] Loss: 0.2788\n",
      "Epoch [38/100], Step [100/500] Loss: 0.1841\n",
      "Epoch [38/100], Step [200/500] Loss: 0.2287\n",
      "Epoch [38/100], Step [300/500] Loss: 0.1908\n",
      "Epoch [38/100], Step [400/500] Loss: 0.1611\n",
      "Epoch [38/100], Step [500/500] Loss: 0.2212\n",
      "Epoch [39/100], Step [100/500] Loss: 0.2495\n",
      "Epoch [39/100], Step [200/500] Loss: 0.2731\n",
      "Epoch [39/100], Step [300/500] Loss: 0.1402\n",
      "Epoch [39/100], Step [400/500] Loss: 0.1203\n",
      "Epoch [39/100], Step [500/500] Loss: 0.3137\n",
      "Epoch [40/100], Step [100/500] Loss: 0.2361\n",
      "Epoch [40/100], Step [200/500] Loss: 0.1573\n",
      "Epoch [40/100], Step [300/500] Loss: 0.3792\n",
      "Epoch [40/100], Step [400/500] Loss: 0.2272\n",
      "Epoch [40/100], Step [500/500] Loss: 0.1594\n",
      "Epoch [41/100], Step [100/500] Loss: 0.1091\n",
      "Epoch [41/100], Step [200/500] Loss: 0.1325\n",
      "Epoch [41/100], Step [300/500] Loss: 0.1114\n",
      "Epoch [41/100], Step [400/500] Loss: 0.1617\n",
      "Epoch [41/100], Step [500/500] Loss: 0.2214\n",
      "Epoch [42/100], Step [100/500] Loss: 0.1234\n",
      "Epoch [42/100], Step [200/500] Loss: 0.1816\n",
      "Epoch [42/100], Step [300/500] Loss: 0.2193\n",
      "Epoch [42/100], Step [400/500] Loss: 0.1448\n",
      "Epoch [42/100], Step [500/500] Loss: 0.1009\n",
      "Epoch [43/100], Step [100/500] Loss: 0.1791\n",
      "Epoch [43/100], Step [200/500] Loss: 0.1016\n",
      "Epoch [43/100], Step [300/500] Loss: 0.1839\n",
      "Epoch [43/100], Step [400/500] Loss: 0.2170\n",
      "Epoch [43/100], Step [500/500] Loss: 0.1064\n",
      "Epoch [44/100], Step [100/500] Loss: 0.2403\n",
      "Epoch [44/100], Step [200/500] Loss: 0.0846\n",
      "Epoch [44/100], Step [300/500] Loss: 0.1660\n",
      "Epoch [44/100], Step [400/500] Loss: 0.1587\n",
      "Epoch [44/100], Step [500/500] Loss: 0.1378\n",
      "Epoch [45/100], Step [100/500] Loss: 0.1147\n",
      "Epoch [45/100], Step [200/500] Loss: 0.1599\n",
      "Epoch [45/100], Step [300/500] Loss: 0.2062\n",
      "Epoch [45/100], Step [400/500] Loss: 0.2969\n",
      "Epoch [45/100], Step [500/500] Loss: 0.1011\n",
      "Epoch [46/100], Step [100/500] Loss: 0.1067\n",
      "Epoch [46/100], Step [200/500] Loss: 0.1954\n",
      "Epoch [46/100], Step [300/500] Loss: 0.2118\n",
      "Epoch [46/100], Step [400/500] Loss: 0.1971\n",
      "Epoch [46/100], Step [500/500] Loss: 0.1724\n",
      "Epoch [47/100], Step [100/500] Loss: 0.1523\n",
      "Epoch [47/100], Step [200/500] Loss: 0.2083\n",
      "Epoch [47/100], Step [300/500] Loss: 0.1896\n",
      "Epoch [47/100], Step [400/500] Loss: 0.1774\n",
      "Epoch [47/100], Step [500/500] Loss: 0.1619\n",
      "Epoch [48/100], Step [100/500] Loss: 0.1865\n",
      "Epoch [48/100], Step [200/500] Loss: 0.1431\n",
      "Epoch [48/100], Step [300/500] Loss: 0.1531\n",
      "Epoch [48/100], Step [400/500] Loss: 0.2071\n",
      "Epoch [48/100], Step [500/500] Loss: 0.2061\n",
      "Epoch [49/100], Step [100/500] Loss: 0.1231\n",
      "Epoch [49/100], Step [200/500] Loss: 0.0932\n",
      "Epoch [49/100], Step [300/500] Loss: 0.1690\n",
      "Epoch [49/100], Step [400/500] Loss: 0.1048\n",
      "Epoch [49/100], Step [500/500] Loss: 0.1363\n",
      "Epoch [50/100], Step [100/500] Loss: 0.1561\n",
      "Epoch [50/100], Step [200/500] Loss: 0.1549\n",
      "Epoch [50/100], Step [300/500] Loss: 0.1723\n",
      "Epoch [50/100], Step [400/500] Loss: 0.2606\n",
      "Epoch [50/100], Step [500/500] Loss: 0.0881\n",
      "Epoch [51/100], Step [100/500] Loss: 0.0726\n",
      "Epoch [51/100], Step [200/500] Loss: 0.1107\n",
      "Epoch [51/100], Step [300/500] Loss: 0.1516\n",
      "Epoch [51/100], Step [400/500] Loss: 0.1453\n",
      "Epoch [51/100], Step [500/500] Loss: 0.1652\n",
      "Epoch [52/100], Step [100/500] Loss: 0.1639\n",
      "Epoch [52/100], Step [200/500] Loss: 0.1565\n",
      "Epoch [52/100], Step [300/500] Loss: 0.2585\n",
      "Epoch [52/100], Step [400/500] Loss: 0.1355\n",
      "Epoch [52/100], Step [500/500] Loss: 0.1487\n",
      "Epoch [53/100], Step [100/500] Loss: 0.1004\n",
      "Epoch [53/100], Step [200/500] Loss: 0.1652\n",
      "Epoch [53/100], Step [300/500] Loss: 0.2249\n",
      "Epoch [53/100], Step [400/500] Loss: 0.1656\n",
      "Epoch [53/100], Step [500/500] Loss: 0.2769\n",
      "Epoch [54/100], Step [100/500] Loss: 0.1555\n",
      "Epoch [54/100], Step [200/500] Loss: 0.0728\n",
      "Epoch [54/100], Step [300/500] Loss: 0.1631\n",
      "Epoch [54/100], Step [400/500] Loss: 0.1485\n",
      "Epoch [54/100], Step [500/500] Loss: 0.0804\n",
      "Epoch [55/100], Step [100/500] Loss: 0.1342\n",
      "Epoch [55/100], Step [200/500] Loss: 0.1473\n",
      "Epoch [55/100], Step [300/500] Loss: 0.2116\n",
      "Epoch [55/100], Step [400/500] Loss: 0.1377\n",
      "Epoch [55/100], Step [500/500] Loss: 0.1916\n",
      "Epoch [56/100], Step [100/500] Loss: 0.1473\n",
      "Epoch [56/100], Step [200/500] Loss: 0.2165\n",
      "Epoch [56/100], Step [300/500] Loss: 0.1723\n",
      "Epoch [56/100], Step [400/500] Loss: 0.1604\n",
      "Epoch [56/100], Step [500/500] Loss: 0.1627\n",
      "Epoch [57/100], Step [100/500] Loss: 0.1831\n",
      "Epoch [57/100], Step [200/500] Loss: 0.1597\n",
      "Epoch [57/100], Step [300/500] Loss: 0.1818\n",
      "Epoch [57/100], Step [400/500] Loss: 0.1390\n",
      "Epoch [57/100], Step [500/500] Loss: 0.1212\n",
      "Epoch [58/100], Step [100/500] Loss: 0.2920\n",
      "Epoch [58/100], Step [200/500] Loss: 0.1377\n",
      "Epoch [58/100], Step [300/500] Loss: 0.1526\n",
      "Epoch [58/100], Step [400/500] Loss: 0.1436\n",
      "Epoch [58/100], Step [500/500] Loss: 0.1827\n",
      "Epoch [59/100], Step [100/500] Loss: 0.2194\n",
      "Epoch [59/100], Step [200/500] Loss: 0.1603\n",
      "Epoch [59/100], Step [300/500] Loss: 0.0853\n",
      "Epoch [59/100], Step [400/500] Loss: 0.1137\n",
      "Epoch [59/100], Step [500/500] Loss: 0.1986\n",
      "Epoch [60/100], Step [100/500] Loss: 0.1666\n",
      "Epoch [60/100], Step [200/500] Loss: 0.1091\n",
      "Epoch [60/100], Step [300/500] Loss: 0.2074\n",
      "Epoch [60/100], Step [400/500] Loss: 0.0935\n",
      "Epoch [60/100], Step [500/500] Loss: 0.1515\n",
      "Epoch [61/100], Step [100/500] Loss: 0.1050\n",
      "Epoch [61/100], Step [200/500] Loss: 0.2232\n",
      "Epoch [61/100], Step [300/500] Loss: 0.1105\n",
      "Epoch [61/100], Step [400/500] Loss: 0.1153\n",
      "Epoch [61/100], Step [500/500] Loss: 0.1052\n",
      "Epoch [62/100], Step [100/500] Loss: 0.1054\n",
      "Epoch [62/100], Step [200/500] Loss: 0.1248\n",
      "Epoch [62/100], Step [300/500] Loss: 0.2031\n",
      "Epoch [62/100], Step [400/500] Loss: 0.1289\n",
      "Epoch [62/100], Step [500/500] Loss: 0.1331\n",
      "Epoch [63/100], Step [100/500] Loss: 0.1361\n",
      "Epoch [63/100], Step [200/500] Loss: 0.0806\n",
      "Epoch [63/100], Step [300/500] Loss: 0.0941\n",
      "Epoch [63/100], Step [400/500] Loss: 0.1939\n",
      "Epoch [63/100], Step [500/500] Loss: 0.0956\n",
      "Epoch [64/100], Step [100/500] Loss: 0.0964\n",
      "Epoch [64/100], Step [200/500] Loss: 0.1648\n",
      "Epoch [64/100], Step [300/500] Loss: 0.1552\n",
      "Epoch [64/100], Step [400/500] Loss: 0.1955\n",
      "Epoch [64/100], Step [500/500] Loss: 0.1723\n",
      "Epoch [65/100], Step [100/500] Loss: 0.0932\n",
      "Epoch [65/100], Step [200/500] Loss: 0.0706\n",
      "Epoch [65/100], Step [300/500] Loss: 0.1758\n",
      "Epoch [65/100], Step [400/500] Loss: 0.1656\n",
      "Epoch [65/100], Step [500/500] Loss: 0.1685\n",
      "Epoch [66/100], Step [100/500] Loss: 0.0864\n",
      "Epoch [66/100], Step [200/500] Loss: 0.1058\n",
      "Epoch [66/100], Step [300/500] Loss: 0.2787\n",
      "Epoch [66/100], Step [400/500] Loss: 0.0924\n",
      "Epoch [66/100], Step [500/500] Loss: 0.1110\n",
      "Epoch [67/100], Step [100/500] Loss: 0.2107\n",
      "Epoch [67/100], Step [200/500] Loss: 0.2026\n",
      "Epoch [67/100], Step [300/500] Loss: 0.0759\n",
      "Epoch [67/100], Step [400/500] Loss: 0.1525\n",
      "Epoch [67/100], Step [500/500] Loss: 0.1492\n",
      "Epoch [68/100], Step [100/500] Loss: 0.1499\n",
      "Epoch [68/100], Step [200/500] Loss: 0.1388\n",
      "Epoch [68/100], Step [300/500] Loss: 0.1203\n",
      "Epoch [68/100], Step [400/500] Loss: 0.1654\n",
      "Epoch [68/100], Step [500/500] Loss: 0.1246\n",
      "Epoch [69/100], Step [100/500] Loss: 0.1304\n",
      "Epoch [69/100], Step [200/500] Loss: 0.1680\n",
      "Epoch [69/100], Step [300/500] Loss: 0.1289\n",
      "Epoch [69/100], Step [400/500] Loss: 0.1640\n",
      "Epoch [69/100], Step [500/500] Loss: 0.1609\n",
      "Epoch [70/100], Step [100/500] Loss: 0.1324\n",
      "Epoch [70/100], Step [200/500] Loss: 0.1099\n",
      "Epoch [70/100], Step [300/500] Loss: 0.2015\n",
      "Epoch [70/100], Step [400/500] Loss: 0.1319\n",
      "Epoch [70/100], Step [500/500] Loss: 0.1042\n",
      "Epoch [71/100], Step [100/500] Loss: 0.2785\n",
      "Epoch [71/100], Step [200/500] Loss: 0.1978\n",
      "Epoch [71/100], Step [300/500] Loss: 0.1183\n",
      "Epoch [71/100], Step [400/500] Loss: 0.0914\n",
      "Epoch [71/100], Step [500/500] Loss: 0.0946\n",
      "Epoch [72/100], Step [100/500] Loss: 0.1381\n",
      "Epoch [72/100], Step [200/500] Loss: 0.1497\n",
      "Epoch [72/100], Step [300/500] Loss: 0.1639\n",
      "Epoch [72/100], Step [400/500] Loss: 0.0983\n",
      "Epoch [72/100], Step [500/500] Loss: 0.1028\n",
      "Epoch [73/100], Step [100/500] Loss: 0.1176\n",
      "Epoch [73/100], Step [200/500] Loss: 0.1834\n",
      "Epoch [73/100], Step [300/500] Loss: 0.2162\n",
      "Epoch [73/100], Step [400/500] Loss: 0.1140\n",
      "Epoch [73/100], Step [500/500] Loss: 0.1310\n",
      "Epoch [74/100], Step [100/500] Loss: 0.1232\n",
      "Epoch [74/100], Step [200/500] Loss: 0.1054\n",
      "Epoch [74/100], Step [300/500] Loss: 0.1118\n",
      "Epoch [74/100], Step [400/500] Loss: 0.1252\n",
      "Epoch [74/100], Step [500/500] Loss: 0.1138\n",
      "Epoch [75/100], Step [100/500] Loss: 0.1599\n",
      "Epoch [75/100], Step [200/500] Loss: 0.1070\n",
      "Epoch [75/100], Step [300/500] Loss: 0.1040\n",
      "Epoch [75/100], Step [400/500] Loss: 0.1356\n",
      "Epoch [75/100], Step [500/500] Loss: 0.1324\n",
      "Epoch [76/100], Step [100/500] Loss: 0.1452\n",
      "Epoch [76/100], Step [200/500] Loss: 0.0969\n",
      "Epoch [76/100], Step [300/500] Loss: 0.0983\n",
      "Epoch [76/100], Step [400/500] Loss: 0.2066\n",
      "Epoch [76/100], Step [500/500] Loss: 0.0682\n",
      "Epoch [77/100], Step [100/500] Loss: 0.1537\n",
      "Epoch [77/100], Step [200/500] Loss: 0.1623\n",
      "Epoch [77/100], Step [300/500] Loss: 0.1652\n",
      "Epoch [77/100], Step [400/500] Loss: 0.1796\n",
      "Epoch [77/100], Step [500/500] Loss: 0.0777\n",
      "Epoch [78/100], Step [100/500] Loss: 0.1637\n",
      "Epoch [78/100], Step [200/500] Loss: 0.1193\n",
      "Epoch [78/100], Step [300/500] Loss: 0.1792\n",
      "Epoch [78/100], Step [400/500] Loss: 0.1195\n",
      "Epoch [78/100], Step [500/500] Loss: 0.1369\n",
      "Epoch [79/100], Step [100/500] Loss: 0.0852\n",
      "Epoch [79/100], Step [200/500] Loss: 0.0793\n",
      "Epoch [79/100], Step [300/500] Loss: 0.1599\n",
      "Epoch [79/100], Step [400/500] Loss: 0.2303\n",
      "Epoch [79/100], Step [500/500] Loss: 0.1043\n",
      "Epoch [80/100], Step [100/500] Loss: 0.1395\n",
      "Epoch [80/100], Step [200/500] Loss: 0.1132\n",
      "Epoch [80/100], Step [300/500] Loss: 0.1845\n",
      "Epoch [80/100], Step [400/500] Loss: 0.0942\n",
      "Epoch [80/100], Step [500/500] Loss: 0.1950\n",
      "Epoch [81/100], Step [100/500] Loss: 0.1209\n",
      "Epoch [81/100], Step [200/500] Loss: 0.0678\n",
      "Epoch [81/100], Step [300/500] Loss: 0.1538\n",
      "Epoch [81/100], Step [400/500] Loss: 0.1551\n",
      "Epoch [81/100], Step [500/500] Loss: 0.0826\n",
      "Epoch [82/100], Step [100/500] Loss: 0.1389\n",
      "Epoch [82/100], Step [200/500] Loss: 0.1204\n",
      "Epoch [82/100], Step [300/500] Loss: 0.0716\n",
      "Epoch [82/100], Step [400/500] Loss: 0.1944\n",
      "Epoch [82/100], Step [500/500] Loss: 0.1928\n",
      "Epoch [83/100], Step [100/500] Loss: 0.0905\n",
      "Epoch [83/100], Step [200/500] Loss: 0.1365\n",
      "Epoch [83/100], Step [300/500] Loss: 0.1327\n",
      "Epoch [83/100], Step [400/500] Loss: 0.1267\n",
      "Epoch [83/100], Step [500/500] Loss: 0.1115\n",
      "Epoch [84/100], Step [100/500] Loss: 0.0916\n",
      "Epoch [84/100], Step [200/500] Loss: 0.0559\n",
      "Epoch [84/100], Step [300/500] Loss: 0.1348\n",
      "Epoch [84/100], Step [400/500] Loss: 0.1214\n",
      "Epoch [84/100], Step [500/500] Loss: 0.0703\n",
      "Epoch [85/100], Step [100/500] Loss: 0.0808\n",
      "Epoch [85/100], Step [200/500] Loss: 0.2216\n",
      "Epoch [85/100], Step [300/500] Loss: 0.1447\n",
      "Epoch [85/100], Step [400/500] Loss: 0.1120\n",
      "Epoch [85/100], Step [500/500] Loss: 0.1292\n",
      "Epoch [86/100], Step [100/500] Loss: 0.1759\n",
      "Epoch [86/100], Step [200/500] Loss: 0.1693\n",
      "Epoch [86/100], Step [300/500] Loss: 0.0802\n",
      "Epoch [86/100], Step [400/500] Loss: 0.0957\n",
      "Epoch [86/100], Step [500/500] Loss: 0.1023\n",
      "Epoch [87/100], Step [100/500] Loss: 0.1399\n",
      "Epoch [87/100], Step [200/500] Loss: 0.1301\n",
      "Epoch [87/100], Step [300/500] Loss: 0.1068\n",
      "Epoch [87/100], Step [400/500] Loss: 0.1305\n",
      "Epoch [87/100], Step [500/500] Loss: 0.0792\n",
      "Epoch [88/100], Step [100/500] Loss: 0.1253\n",
      "Epoch [88/100], Step [200/500] Loss: 0.0932\n",
      "Epoch [88/100], Step [300/500] Loss: 0.2322\n",
      "Epoch [88/100], Step [400/500] Loss: 0.0866\n",
      "Epoch [88/100], Step [500/500] Loss: 0.1026\n",
      "Epoch [89/100], Step [100/500] Loss: 0.0973\n",
      "Epoch [89/100], Step [200/500] Loss: 0.0782\n",
      "Epoch [89/100], Step [300/500] Loss: 0.1773\n",
      "Epoch [89/100], Step [400/500] Loss: 0.1309\n",
      "Epoch [89/100], Step [500/500] Loss: 0.0850\n",
      "Epoch [90/100], Step [100/500] Loss: 0.0857\n",
      "Epoch [90/100], Step [200/500] Loss: 0.1432\n",
      "Epoch [90/100], Step [300/500] Loss: 0.0850\n",
      "Epoch [90/100], Step [400/500] Loss: 0.1095\n",
      "Epoch [90/100], Step [500/500] Loss: 0.1438\n",
      "Epoch [91/100], Step [100/500] Loss: 0.1427\n",
      "Epoch [91/100], Step [200/500] Loss: 0.2041\n",
      "Epoch [91/100], Step [300/500] Loss: 0.1306\n",
      "Epoch [91/100], Step [400/500] Loss: 0.1270\n",
      "Epoch [91/100], Step [500/500] Loss: 0.1586\n",
      "Epoch [92/100], Step [100/500] Loss: 0.0648\n",
      "Epoch [92/100], Step [200/500] Loss: 0.0913\n",
      "Epoch [92/100], Step [300/500] Loss: 0.1088\n",
      "Epoch [92/100], Step [400/500] Loss: 0.1293\n",
      "Epoch [92/100], Step [500/500] Loss: 0.1183\n",
      "Epoch [93/100], Step [100/500] Loss: 0.2033\n",
      "Epoch [93/100], Step [200/500] Loss: 0.1294\n",
      "Epoch [93/100], Step [300/500] Loss: 0.0551\n",
      "Epoch [93/100], Step [400/500] Loss: 0.1416\n",
      "Epoch [93/100], Step [500/500] Loss: 0.0872\n",
      "Epoch [94/100], Step [100/500] Loss: 0.0929\n",
      "Epoch [94/100], Step [200/500] Loss: 0.0875\n",
      "Epoch [94/100], Step [300/500] Loss: 0.1293\n",
      "Epoch [94/100], Step [400/500] Loss: 0.1139\n",
      "Epoch [94/100], Step [500/500] Loss: 0.1011\n",
      "Epoch [95/100], Step [100/500] Loss: 0.0760\n",
      "Epoch [95/100], Step [200/500] Loss: 0.1212\n",
      "Epoch [95/100], Step [300/500] Loss: 0.1146\n",
      "Epoch [95/100], Step [400/500] Loss: 0.1344\n",
      "Epoch [95/100], Step [500/500] Loss: 0.1122\n",
      "Epoch [96/100], Step [100/500] Loss: 0.1531\n",
      "Epoch [96/100], Step [200/500] Loss: 0.0876\n",
      "Epoch [96/100], Step [300/500] Loss: 0.1001\n",
      "Epoch [96/100], Step [400/500] Loss: 0.1096\n",
      "Epoch [96/100], Step [500/500] Loss: 0.0943\n",
      "Epoch [97/100], Step [100/500] Loss: 0.1382\n",
      "Epoch [97/100], Step [200/500] Loss: 0.1914\n",
      "Epoch [97/100], Step [300/500] Loss: 0.1299\n",
      "Epoch [97/100], Step [400/500] Loss: 0.0532\n",
      "Epoch [97/100], Step [500/500] Loss: 0.1113\n",
      "Epoch [98/100], Step [100/500] Loss: 0.1470\n",
      "Epoch [98/100], Step [200/500] Loss: 0.0847\n",
      "Epoch [98/100], Step [300/500] Loss: 0.1463\n",
      "Epoch [98/100], Step [400/500] Loss: 0.1824\n",
      "Epoch [98/100], Step [500/500] Loss: 0.1950\n",
      "Epoch [99/100], Step [100/500] Loss: 0.1703\n",
      "Epoch [99/100], Step [200/500] Loss: 0.1031\n",
      "Epoch [99/100], Step [300/500] Loss: 0.1179\n",
      "Epoch [99/100], Step [400/500] Loss: 0.1193\n",
      "Epoch [99/100], Step [500/500] Loss: 0.1225\n",
      "Epoch [100/100], Step [100/500] Loss: 0.1419\n",
      "Epoch [100/100], Step [200/500] Loss: 0.1553\n",
      "Epoch [100/100], Step [300/500] Loss: 0.1085\n",
      "Epoch [100/100], Step [400/500] Loss: 0.2103\n",
      "Epoch [100/100], Step [500/500] Loss: 0.1284\n"
     ]
    }
   ],
   "source": [
    "total_step = len(train_loader)\n",
    "curr_lr = learning_rate\n",
    "for epoch in range(num_epochs):\n",
    "    for i, (images, labels) in enumerate(train_loader):\n",
    "        images = images.to(device)\n",
    "        labels = labels.to(device)\n",
    "        \n",
    "        # Forward pass\n",
    "        outputs = model(images)\n",
    "        loss = criterion(outputs, labels)\n",
    "        \n",
    "        # Backward and optimize\n",
    "        optimizer.zero_grad()\n",
    "        loss.backward()\n",
    "        optimizer.step()\n",
    "        \n",
    "        if (i+1) % 100 == 0:\n",
    "            print (\"Epoch [{}/{}], Step [{}/{}] Loss: {:.4f}\"\n",
    "                   .format(epoch+1, num_epochs, i+1, total_step, loss.item()))\n",
    "\n",
    "    # Decay learning rate\n",
    "    if (epoch+1) % 20 == 0:\n",
    "        curr_lr /= 3\n",
    "        update_lr(optimizer, curr_lr)"
   ]
  },
  {
   "cell_type": "markdown",
   "metadata": {
    "id": "cGxRAgGUgs70"
   },
   "source": [
    "## Đánh giá mô hình"
   ]
  },
  {
   "cell_type": "code",
   "execution_count": 14,
   "metadata": {
    "colab": {
     "base_uri": "https://localhost:8080/"
    },
    "id": "uIhtvCMLgs70",
    "outputId": "ba989eb6-8bc3-42c0-da35-e18d86296725"
   },
   "outputs": [
    {
     "name": "stdout",
     "output_type": "stream",
     "text": [
      "Accuracy of the model on the test images: 88.73 %\n"
     ]
    }
   ],
   "source": [
    "model.eval()\n",
    "with torch.no_grad():\n",
    "    correct = 0\n",
    "    total = 0\n",
    "    for images, labels in test_loader:\n",
    "        images = images.to(device)\n",
    "        labels = labels.to(device)\n",
    "        outputs = model(images)\n",
    "        _, predicted = torch.max(outputs.data, 1)\n",
    "        total += labels.size(0)\n",
    "        correct += (predicted == labels).sum().item()\n",
    "\n",
    "    print('Accuracy of the model on the test images: {} %'.format(100 * correct / total))"
   ]
  },
  {
   "cell_type": "markdown",
   "metadata": {
    "id": "6c64eV-kgs71"
   },
   "source": [
    "## Lưu mô hình (model checkpoint)"
   ]
  },
  {
   "cell_type": "code",
   "execution_count": 15,
   "metadata": {
    "id": "OvC4TPd4gs71"
   },
   "outputs": [],
   "source": [
    "torch.save(model.state_dict(), 'resnet.ckpt')"
   ]
  }
 ],
 "metadata": {
  "accelerator": "GPU",
  "colab": {
   "name": "pytorch_deep_residual_network.ipynb",
   "provenance": []
  },
  "kernelspec": {
   "display_name": "Python 3 (ipykernel)",
   "language": "python",
   "name": "python3"
  },
  "language_info": {
   "codemirror_mode": {
    "name": "ipython",
    "version": 3
   },
   "file_extension": ".py",
   "mimetype": "text/x-python",
   "name": "python",
   "nbconvert_exporter": "python",
   "pygments_lexer": "ipython3",
   "version": "3.9.1"
  },
  "widgets": {
   "application/vnd.jupyter.widget-state+json": {
    "2d3c3cf4597442bba659e789e8049f27": {
     "model_module": "@jupyter-widgets/base",
     "model_name": "LayoutModel",
     "state": {
      "_model_module": "@jupyter-widgets/base",
      "_model_module_version": "1.2.0",
      "_model_name": "LayoutModel",
      "_view_count": null,
      "_view_module": "@jupyter-widgets/base",
      "_view_module_version": "1.2.0",
      "_view_name": "LayoutView",
      "align_content": null,
      "align_items": null,
      "align_self": null,
      "border": null,
      "bottom": null,
      "display": null,
      "flex": null,
      "flex_flow": null,
      "grid_area": null,
      "grid_auto_columns": null,
      "grid_auto_flow": null,
      "grid_auto_rows": null,
      "grid_column": null,
      "grid_gap": null,
      "grid_row": null,
      "grid_template_areas": null,
      "grid_template_columns": null,
      "grid_template_rows": null,
      "height": null,
      "justify_content": null,
      "justify_items": null,
      "left": null,
      "margin": null,
      "max_height": null,
      "max_width": null,
      "min_height": null,
      "min_width": null,
      "object_fit": null,
      "object_position": null,
      "order": null,
      "overflow": null,
      "overflow_x": null,
      "overflow_y": null,
      "padding": null,
      "right": null,
      "top": null,
      "visibility": null,
      "width": null
     }
    },
    "358550d3126e4530a6992bba9c71e0b1": {
     "model_module": "@jupyter-widgets/base",
     "model_name": "LayoutModel",
     "state": {
      "_model_module": "@jupyter-widgets/base",
      "_model_module_version": "1.2.0",
      "_model_name": "LayoutModel",
      "_view_count": null,
      "_view_module": "@jupyter-widgets/base",
      "_view_module_version": "1.2.0",
      "_view_name": "LayoutView",
      "align_content": null,
      "align_items": null,
      "align_self": null,
      "border": null,
      "bottom": null,
      "display": null,
      "flex": null,
      "flex_flow": null,
      "grid_area": null,
      "grid_auto_columns": null,
      "grid_auto_flow": null,
      "grid_auto_rows": null,
      "grid_column": null,
      "grid_gap": null,
      "grid_row": null,
      "grid_template_areas": null,
      "grid_template_columns": null,
      "grid_template_rows": null,
      "height": null,
      "justify_content": null,
      "justify_items": null,
      "left": null,
      "margin": null,
      "max_height": null,
      "max_width": null,
      "min_height": null,
      "min_width": null,
      "object_fit": null,
      "object_position": null,
      "order": null,
      "overflow": null,
      "overflow_x": null,
      "overflow_y": null,
      "padding": null,
      "right": null,
      "top": null,
      "visibility": null,
      "width": null
     }
    },
    "55d53761192c4e738abad7331c5f841b": {
     "model_module": "@jupyter-widgets/base",
     "model_name": "LayoutModel",
     "state": {
      "_model_module": "@jupyter-widgets/base",
      "_model_module_version": "1.2.0",
      "_model_name": "LayoutModel",
      "_view_count": null,
      "_view_module": "@jupyter-widgets/base",
      "_view_module_version": "1.2.0",
      "_view_name": "LayoutView",
      "align_content": null,
      "align_items": null,
      "align_self": null,
      "border": null,
      "bottom": null,
      "display": null,
      "flex": null,
      "flex_flow": null,
      "grid_area": null,
      "grid_auto_columns": null,
      "grid_auto_flow": null,
      "grid_auto_rows": null,
      "grid_column": null,
      "grid_gap": null,
      "grid_row": null,
      "grid_template_areas": null,
      "grid_template_columns": null,
      "grid_template_rows": null,
      "height": null,
      "justify_content": null,
      "justify_items": null,
      "left": null,
      "margin": null,
      "max_height": null,
      "max_width": null,
      "min_height": null,
      "min_width": null,
      "object_fit": null,
      "object_position": null,
      "order": null,
      "overflow": null,
      "overflow_x": null,
      "overflow_y": null,
      "padding": null,
      "right": null,
      "top": null,
      "visibility": null,
      "width": null
     }
    },
    "5ae56cdff92e4fdc8e4fc6ec0d783e21": {
     "model_module": "@jupyter-widgets/controls",
     "model_name": "HBoxModel",
     "state": {
      "_dom_classes": [],
      "_model_module": "@jupyter-widgets/controls",
      "_model_module_version": "1.5.0",
      "_model_name": "HBoxModel",
      "_view_count": null,
      "_view_module": "@jupyter-widgets/controls",
      "_view_module_version": "1.5.0",
      "_view_name": "HBoxView",
      "box_style": "",
      "children": [
       "IPY_MODEL_811910b8500b4c3cb26c42284b1292b9",
       "IPY_MODEL_d338a091cee24d98a14ab8d6601a3c05"
      ],
      "layout": "IPY_MODEL_358550d3126e4530a6992bba9c71e0b1"
     }
    },
    "674868807f204c27909ce40d69cc757c": {
     "model_module": "@jupyter-widgets/controls",
     "model_name": "DescriptionStyleModel",
     "state": {
      "_model_module": "@jupyter-widgets/controls",
      "_model_module_version": "1.5.0",
      "_model_name": "DescriptionStyleModel",
      "_view_count": null,
      "_view_module": "@jupyter-widgets/base",
      "_view_module_version": "1.2.0",
      "_view_name": "StyleView",
      "description_width": ""
     }
    },
    "6fb9c4eed3ec4304bf4abc6bb4343dea": {
     "model_module": "@jupyter-widgets/controls",
     "model_name": "ProgressStyleModel",
     "state": {
      "_model_module": "@jupyter-widgets/controls",
      "_model_module_version": "1.5.0",
      "_model_name": "ProgressStyleModel",
      "_view_count": null,
      "_view_module": "@jupyter-widgets/base",
      "_view_module_version": "1.2.0",
      "_view_name": "StyleView",
      "bar_color": null,
      "description_width": "initial"
     }
    },
    "811910b8500b4c3cb26c42284b1292b9": {
     "model_module": "@jupyter-widgets/controls",
     "model_name": "FloatProgressModel",
     "state": {
      "_dom_classes": [],
      "_model_module": "@jupyter-widgets/controls",
      "_model_module_version": "1.5.0",
      "_model_name": "FloatProgressModel",
      "_view_count": null,
      "_view_module": "@jupyter-widgets/controls",
      "_view_module_version": "1.5.0",
      "_view_name": "ProgressView",
      "bar_style": "success",
      "description": "",
      "description_tooltip": null,
      "layout": "IPY_MODEL_2d3c3cf4597442bba659e789e8049f27",
      "max": 170498071,
      "min": 0,
      "orientation": "horizontal",
      "style": "IPY_MODEL_6fb9c4eed3ec4304bf4abc6bb4343dea",
      "value": 170498071
     }
    },
    "d338a091cee24d98a14ab8d6601a3c05": {
     "model_module": "@jupyter-widgets/controls",
     "model_name": "HTMLModel",
     "state": {
      "_dom_classes": [],
      "_model_module": "@jupyter-widgets/controls",
      "_model_module_version": "1.5.0",
      "_model_name": "HTMLModel",
      "_view_count": null,
      "_view_module": "@jupyter-widgets/controls",
      "_view_module_version": "1.5.0",
      "_view_name": "HTMLView",
      "description": "",
      "description_tooltip": null,
      "layout": "IPY_MODEL_55d53761192c4e738abad7331c5f841b",
      "placeholder": "​",
      "style": "IPY_MODEL_674868807f204c27909ce40d69cc757c",
      "value": " 170499072/? [00:04&lt;00:00, 41542046.69it/s]"
     }
    }
   }
  }
 },
 "nbformat": 4,
 "nbformat_minor": 1
}
