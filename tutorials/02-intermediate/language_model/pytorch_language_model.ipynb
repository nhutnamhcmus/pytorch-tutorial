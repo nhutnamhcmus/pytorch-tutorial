{
 "cells": [
  {
   "cell_type": "markdown",
   "metadata": {},
   "source": [
    "## Import thư viện"
   ]
  },
  {
   "cell_type": "code",
   "execution_count": 1,
   "metadata": {},
   "outputs": [],
   "source": [
    "# Some part of the code was referenced from below.\n",
    "# https://github.com/pytorch/examples/tree/master/word_language_model \n",
    "import os\n",
    "import torch\n",
    "import torch.nn as nn\n",
    "import numpy as np\n",
    "from torch.nn.utils import clip_grad_norm_"
   ]
  },
  {
   "cell_type": "markdown",
   "metadata": {},
   "source": [
    "## Các lớp helper"
   ]
  },
  {
   "cell_type": "code",
   "execution_count": 2,
   "metadata": {},
   "outputs": [],
   "source": [
    "class Dictionary(object):\n",
    "    def __init__(self):\n",
    "        self.word2idx = {}\n",
    "        self.idx2word = {}\n",
    "        self.idx = 0\n",
    "    # Phương thức thêm từ\n",
    "    def add_word(self, word):\n",
    "        if not word in self.word2idx:\n",
    "            self.word2idx[word] = self.idx\n",
    "            self.idx2word[self.idx] = word\n",
    "            self.idx += 1\n",
    "    # Phương thức lấy kích thước\n",
    "    def __len__(self):\n",
    "        return len(self.word2idx)"
   ]
  },
  {
   "cell_type": "code",
   "execution_count": 3,
   "metadata": {},
   "outputs": [],
   "source": [
    "class Corpus(object):\n",
    "    def __init__(self):\n",
    "        self.dictionary = Dictionary()\n",
    "\n",
    "    def get_data(self, path, batch_size=20):\n",
    "        # Thêm từ vào từ điển\n",
    "        with open(path, 'r') as f:\n",
    "            tokens = 0\n",
    "            for line in f:\n",
    "                words = line.split() + ['<eos>']\n",
    "                tokens += len(words)\n",
    "                for word in words: \n",
    "                    self.dictionary.add_word(word)  \n",
    "        \n",
    "        # Tokenize nội dung tập tin\n",
    "        ids = torch.LongTensor(tokens)\n",
    "        token = 0\n",
    "        with open(path, 'r') as f:\n",
    "            for line in f:\n",
    "                words = line.split() + ['<eos>']\n",
    "                for word in words:\n",
    "                    ids[token] = self.dictionary.word2idx[word]\n",
    "                    token += 1\n",
    "        num_batches = ids.size(0) // batch_size\n",
    "        ids = ids[:num_batches*batch_size]\n",
    "        return ids.view(batch_size, -1)"
   ]
  },
  {
   "cell_type": "markdown",
   "metadata": {},
   "source": [
    "## Thiết lập device"
   ]
  },
  {
   "cell_type": "code",
   "execution_count": 4,
   "metadata": {},
   "outputs": [
    {
     "data": {
      "text/plain": [
       "device(type='cuda')"
      ]
     },
     "execution_count": 4,
     "metadata": {},
     "output_type": "execute_result"
    }
   ],
   "source": [
    "device = torch.device('cuda' if torch.cuda.is_available() else 'cpu')\n",
    "device"
   ]
  },
  {
   "cell_type": "markdown",
   "metadata": {},
   "source": [
    "## Đặt các siêu tham số (Hyper-parameters)"
   ]
  },
  {
   "cell_type": "code",
   "execution_count": 5,
   "metadata": {},
   "outputs": [],
   "source": [
    "# Kích thước embed\n",
    "embed_size = 128\n",
    "\n",
    "# Kích thước ẩn\n",
    "hidden_size = 1024\n",
    "\n",
    "# Số tầng\n",
    "num_layers = 1\n",
    "\n",
    "# Số lượng epochs\n",
    "num_epochs = 5\n",
    "\n",
    "num_samples = 1000     # number of words to be sampled\n",
    "\n",
    "# Kích thước mỗi batch\n",
    "batch_size = 20\n",
    "\n",
    "# Chiều dài chuỗi\n",
    "seq_length = 30\n",
    "\n",
    "# Tốc độ học\n",
    "learning_rate = 0.002"
   ]
  },
  {
   "cell_type": "markdown",
   "metadata": {},
   "source": [
    "## Tải dữ liệu \"Penn Treebank\" dataset"
   ]
  },
  {
   "cell_type": "code",
   "execution_count": 6,
   "metadata": {},
   "outputs": [],
   "source": [
    "corpus = Corpus()\n",
    "ids = corpus.get_data('data/train.txt', batch_size)\n",
    "vocab_size = len(corpus.dictionary)\n",
    "num_batches = ids.size(1) // seq_length"
   ]
  },
  {
   "cell_type": "markdown",
   "metadata": {},
   "source": [
    "## Mô hình RNN dựa trên mô hình ngôn ngữ (RNN based language model)"
   ]
  },
  {
   "cell_type": "code",
   "execution_count": 7,
   "metadata": {},
   "outputs": [],
   "source": [
    "class RNNLM(nn.Module):\n",
    "    def __init__(self, vocab_size, embed_size, hidden_size, num_layers):\n",
    "        super(RNNLM, self).__init__()\n",
    "        self.embed = nn.Embedding(vocab_size, embed_size)\n",
    "        self.lstm = nn.LSTM(embed_size, hidden_size, num_layers, batch_first=True)\n",
    "        self.linear = nn.Linear(hidden_size, vocab_size)\n",
    "        \n",
    "    def forward(self, x, h):\n",
    "        # Embed word ids thành vectors\n",
    "        x = self.embed(x)\n",
    "        \n",
    "        # Forward propagate LSTM\n",
    "        out, (h, c) = self.lstm(x, h)\n",
    "        \n",
    "        # Reshape output to (batch_size*sequence_length, hidden_size)\n",
    "        out = out.reshape(out.size(0)*out.size(1), out.size(2))\n",
    "        \n",
    "        # Decode hidden states of all time steps\n",
    "        out = self.linear(out)\n",
    "        return out, (h, c)"
   ]
  },
  {
   "cell_type": "code",
   "execution_count": 8,
   "metadata": {},
   "outputs": [
    {
     "data": {
      "text/plain": [
       "RNNLM(\n",
       "  (embed): Embedding(10000, 128)\n",
       "  (lstm): LSTM(128, 1024, batch_first=True)\n",
       "  (linear): Linear(in_features=1024, out_features=10000, bias=True)\n",
       ")"
      ]
     },
     "execution_count": 8,
     "metadata": {},
     "output_type": "execute_result"
    }
   ],
   "source": [
    "model = RNNLM(vocab_size, embed_size, hidden_size, num_layers).to(device)\n",
    "model"
   ]
  },
  {
   "cell_type": "markdown",
   "metadata": {},
   "source": [
    "## Hàm mất mát (loss function) và bộ tối ưu hóa (optimizer)"
   ]
  },
  {
   "cell_type": "code",
   "execution_count": 9,
   "metadata": {},
   "outputs": [],
   "source": [
    "criterion = nn.CrossEntropyLoss()\n",
    "optimizer = torch.optim.Adam(model.parameters(), lr=learning_rate)"
   ]
  },
  {
   "cell_type": "markdown",
   "metadata": {},
   "source": [
    "## Cắt ngắn lan truyền (Truncated backpropagation)"
   ]
  },
  {
   "cell_type": "code",
   "execution_count": 10,
   "metadata": {},
   "outputs": [],
   "source": [
    "def detach(states):\n",
    "    return [state.detach() for state in states] "
   ]
  },
  {
   "cell_type": "markdown",
   "metadata": {},
   "source": [
    "## Huấn luyện mô hình"
   ]
  },
  {
   "cell_type": "code",
   "execution_count": 11,
   "metadata": {},
   "outputs": [
    {
     "name": "stdout",
     "output_type": "stream",
     "text": [
      "Epoch [1/5], Step[0/1549], Loss: 9.2138, Perplexity: 10034.35\n",
      "Epoch [1/5], Step[100/1549], Loss: 6.0557, Perplexity: 426.54\n",
      "Epoch [1/5], Step[200/1549], Loss: 5.9174, Perplexity: 371.46\n",
      "Epoch [1/5], Step[300/1549], Loss: 5.7649, Perplexity: 318.90\n",
      "Epoch [1/5], Step[400/1549], Loss: 5.6913, Perplexity: 296.27\n",
      "Epoch [1/5], Step[500/1549], Loss: 5.0923, Perplexity: 162.76\n",
      "Epoch [1/5], Step[600/1549], Loss: 5.1487, Perplexity: 172.21\n",
      "Epoch [1/5], Step[700/1549], Loss: 5.3450, Perplexity: 209.55\n",
      "Epoch [1/5], Step[800/1549], Loss: 5.1938, Perplexity: 180.15\n",
      "Epoch [1/5], Step[900/1549], Loss: 5.0499, Perplexity: 156.00\n",
      "Epoch [1/5], Step[1000/1549], Loss: 5.0828, Perplexity: 161.23\n",
      "Epoch [1/5], Step[1100/1549], Loss: 5.3525, Perplexity: 211.14\n",
      "Epoch [1/5], Step[1200/1549], Loss: 5.1564, Perplexity: 173.53\n",
      "Epoch [1/5], Step[1300/1549], Loss: 5.0545, Perplexity: 156.73\n",
      "Epoch [1/5], Step[1400/1549], Loss: 4.8150, Perplexity: 123.35\n",
      "Epoch [1/5], Step[1500/1549], Loss: 5.1747, Perplexity: 176.75\n",
      "Epoch [2/5], Step[0/1549], Loss: 5.4561, Perplexity: 234.18\n",
      "Epoch [2/5], Step[100/1549], Loss: 4.6070, Perplexity: 100.19\n",
      "Epoch [2/5], Step[200/1549], Loss: 4.6783, Perplexity: 107.58\n",
      "Epoch [2/5], Step[300/1549], Loss: 4.6521, Perplexity: 104.81\n",
      "Epoch [2/5], Step[400/1549], Loss: 4.5342, Perplexity: 93.15\n",
      "Epoch [2/5], Step[500/1549], Loss: 4.1100, Perplexity: 60.95\n",
      "Epoch [2/5], Step[600/1549], Loss: 4.3837, Perplexity: 80.14\n",
      "Epoch [2/5], Step[700/1549], Loss: 4.4219, Perplexity: 83.25\n",
      "Epoch [2/5], Step[800/1549], Loss: 4.4566, Perplexity: 86.20\n",
      "Epoch [2/5], Step[900/1549], Loss: 4.2018, Perplexity: 66.81\n",
      "Epoch [2/5], Step[1000/1549], Loss: 4.2947, Perplexity: 73.31\n",
      "Epoch [2/5], Step[1100/1549], Loss: 4.5180, Perplexity: 91.65\n",
      "Epoch [2/5], Step[1200/1549], Loss: 4.3943, Perplexity: 80.99\n",
      "Epoch [2/5], Step[1300/1549], Loss: 4.2156, Perplexity: 67.73\n",
      "Epoch [2/5], Step[1400/1549], Loss: 3.9241, Perplexity: 50.61\n",
      "Epoch [2/5], Step[1500/1549], Loss: 4.2856, Perplexity: 72.64\n",
      "Epoch [3/5], Step[0/1549], Loss: 4.4961, Perplexity: 89.67\n",
      "Epoch [3/5], Step[100/1549], Loss: 3.9563, Perplexity: 52.27\n",
      "Epoch [3/5], Step[200/1549], Loss: 4.0210, Perplexity: 55.76\n",
      "Epoch [3/5], Step[300/1549], Loss: 3.9472, Perplexity: 51.79\n",
      "Epoch [3/5], Step[400/1549], Loss: 3.8856, Perplexity: 48.70\n",
      "Epoch [3/5], Step[500/1549], Loss: 3.4504, Perplexity: 31.51\n",
      "Epoch [3/5], Step[600/1549], Loss: 3.7474, Perplexity: 42.41\n",
      "Epoch [3/5], Step[700/1549], Loss: 3.7385, Perplexity: 42.03\n",
      "Epoch [3/5], Step[800/1549], Loss: 3.8007, Perplexity: 44.73\n",
      "Epoch [3/5], Step[900/1549], Loss: 3.4469, Perplexity: 31.40\n",
      "Epoch [3/5], Step[1000/1549], Loss: 3.6298, Perplexity: 37.71\n",
      "Epoch [3/5], Step[1100/1549], Loss: 3.7628, Perplexity: 43.07\n",
      "Epoch [3/5], Step[1200/1549], Loss: 3.6937, Perplexity: 40.19\n",
      "Epoch [3/5], Step[1300/1549], Loss: 3.4980, Perplexity: 33.05\n",
      "Epoch [3/5], Step[1400/1549], Loss: 3.2019, Perplexity: 24.58\n",
      "Epoch [3/5], Step[1500/1549], Loss: 3.5953, Perplexity: 36.43\n",
      "Epoch [4/5], Step[0/1549], Loss: 3.5870, Perplexity: 36.13\n",
      "Epoch [4/5], Step[100/1549], Loss: 3.3334, Perplexity: 28.03\n",
      "Epoch [4/5], Step[200/1549], Loss: 3.4827, Perplexity: 32.55\n",
      "Epoch [4/5], Step[300/1549], Loss: 3.4085, Perplexity: 30.22\n",
      "Epoch [4/5], Step[400/1549], Loss: 3.3858, Perplexity: 29.54\n",
      "Epoch [4/5], Step[500/1549], Loss: 2.8734, Perplexity: 17.70\n",
      "Epoch [4/5], Step[600/1549], Loss: 3.2665, Perplexity: 26.22\n",
      "Epoch [4/5], Step[700/1549], Loss: 3.2648, Perplexity: 26.17\n",
      "Epoch [4/5], Step[800/1549], Loss: 3.2838, Perplexity: 26.68\n",
      "Epoch [4/5], Step[900/1549], Loss: 2.9532, Perplexity: 19.17\n",
      "Epoch [4/5], Step[1000/1549], Loss: 3.1423, Perplexity: 23.16\n",
      "Epoch [4/5], Step[1100/1549], Loss: 3.2073, Perplexity: 24.71\n",
      "Epoch [4/5], Step[1200/1549], Loss: 3.2339, Perplexity: 25.38\n",
      "Epoch [4/5], Step[1300/1549], Loss: 3.0463, Perplexity: 21.04\n",
      "Epoch [4/5], Step[1400/1549], Loss: 2.7180, Perplexity: 15.15\n",
      "Epoch [4/5], Step[1500/1549], Loss: 3.1361, Perplexity: 23.01\n",
      "Epoch [5/5], Step[0/1549], Loss: 3.1220, Perplexity: 22.69\n",
      "Epoch [5/5], Step[100/1549], Loss: 3.0394, Perplexity: 20.89\n",
      "Epoch [5/5], Step[200/1549], Loss: 3.1844, Perplexity: 24.15\n",
      "Epoch [5/5], Step[300/1549], Loss: 3.0429, Perplexity: 20.97\n",
      "Epoch [5/5], Step[400/1549], Loss: 3.0249, Perplexity: 20.59\n",
      "Epoch [5/5], Step[500/1549], Loss: 2.5748, Perplexity: 13.13\n",
      "Epoch [5/5], Step[600/1549], Loss: 2.9592, Perplexity: 19.28\n",
      "Epoch [5/5], Step[700/1549], Loss: 2.9035, Perplexity: 18.24\n",
      "Epoch [5/5], Step[800/1549], Loss: 3.0253, Perplexity: 20.60\n",
      "Epoch [5/5], Step[900/1549], Loss: 2.6356, Perplexity: 13.95\n",
      "Epoch [5/5], Step[1000/1549], Loss: 2.8216, Perplexity: 16.80\n",
      "Epoch [5/5], Step[1100/1549], Loss: 2.9149, Perplexity: 18.45\n",
      "Epoch [5/5], Step[1200/1549], Loss: 2.8927, Perplexity: 18.04\n",
      "Epoch [5/5], Step[1300/1549], Loss: 2.7758, Perplexity: 16.05\n",
      "Epoch [5/5], Step[1400/1549], Loss: 2.4511, Perplexity: 11.60\n",
      "Epoch [5/5], Step[1500/1549], Loss: 2.8002, Perplexity: 16.45\n"
     ]
    }
   ],
   "source": [
    "for epoch in range(num_epochs):\n",
    "    # Set initial hidden and cell states\n",
    "    states = (torch.zeros(num_layers, batch_size, hidden_size).to(device),\n",
    "              torch.zeros(num_layers, batch_size, hidden_size).to(device))\n",
    "    \n",
    "    for i in range(0, ids.size(1) - seq_length, seq_length):\n",
    "        # Get mini-batch inputs and targets\n",
    "        inputs = ids[:, i:i+seq_length].to(device)\n",
    "        targets = ids[:, (i+1):(i+1)+seq_length].to(device)\n",
    "        \n",
    "        # Forward pass\n",
    "        states = detach(states)\n",
    "        outputs, states = model(inputs, states)\n",
    "        loss = criterion(outputs, targets.reshape(-1))\n",
    "        \n",
    "        # Backward and optimize\n",
    "        optimizer.zero_grad()\n",
    "        loss.backward()\n",
    "        clip_grad_norm_(model.parameters(), 0.5)\n",
    "        optimizer.step()\n",
    "\n",
    "        step = (i+1) // seq_length\n",
    "        if step % 100 == 0:\n",
    "            print ('Epoch [{}/{}], Step[{}/{}], Loss: {:.4f}, Perplexity: {:5.2f}'\n",
    "                   .format(epoch+1, num_epochs, step, num_batches, loss.item(), np.exp(loss.item())))"
   ]
  },
  {
   "cell_type": "markdown",
   "metadata": {},
   "source": [
    "## Kiểm tra mô hình"
   ]
  },
  {
   "cell_type": "code",
   "execution_count": 12,
   "metadata": {},
   "outputs": [
    {
     "name": "stdout",
     "output_type": "stream",
     "text": [
      "Sampled [100/1000] words and save to sample.txt\n",
      "Sampled [200/1000] words and save to sample.txt\n",
      "Sampled [300/1000] words and save to sample.txt\n",
      "Sampled [400/1000] words and save to sample.txt\n",
      "Sampled [500/1000] words and save to sample.txt\n",
      "Sampled [600/1000] words and save to sample.txt\n",
      "Sampled [700/1000] words and save to sample.txt\n",
      "Sampled [800/1000] words and save to sample.txt\n",
      "Sampled [900/1000] words and save to sample.txt\n",
      "Sampled [1000/1000] words and save to sample.txt\n"
     ]
    }
   ],
   "source": [
    "with torch.no_grad():\n",
    "    with open('sample.txt', 'w') as f:\n",
    "        # Set intial hidden ane cell states\n",
    "        # Khởi tạo những trạng thái ẩn và cell\n",
    "        state = (torch.zeros(num_layers, 1, hidden_size).to(device),\n",
    "                 torch.zeros(num_layers, 1, hidden_size).to(device))\n",
    "\n",
    "        # Chọn một word id ngẫu nhiên\n",
    "        prob = torch.ones(vocab_size)\n",
    "        input = torch.multinomial(prob, num_samples=1).unsqueeze(1).to(device)\n",
    "\n",
    "        for i in range(num_samples):\n",
    "            # Forward propagate RNN \n",
    "            output, state = model(input, state)\n",
    "\n",
    "            # Sample a word id\n",
    "            prob = output.exp()\n",
    "            word_id = torch.multinomial(prob, num_samples=1).item()\n",
    "\n",
    "            # Fill input with sampled word id for the next time step\n",
    "            input.fill_(word_id)\n",
    "\n",
    "            # File write\n",
    "            word = corpus.dictionary.idx2word[word_id]\n",
    "            word = '\\n' if word == '<eos>' else word + ' '\n",
    "            f.write(word)\n",
    "\n",
    "            if (i+1) % 100 == 0:\n",
    "                print('Sampled [{}/{}] words and save to {}'.format(i+1, num_samples, 'sample.txt'))"
   ]
  },
  {
   "cell_type": "markdown",
   "metadata": {},
   "source": [
    "## Lưu mô hình (model checkpoint)"
   ]
  },
  {
   "cell_type": "code",
   "execution_count": 13,
   "metadata": {},
   "outputs": [],
   "source": [
    "torch.save(model.state_dict(), 'model.ckpt')"
   ]
  }
 ],
 "metadata": {
  "kernelspec": {
   "display_name": "Python 3.9.1 64-bit ('miniconda3': virtualenv)",
   "language": "python",
   "name": "python391jvsc74a57bd096b1e50a5b0b1bba6aad8d351fe3534b38077bdfb9dec78602f4b7b9bb3fc551"
  },
  "language_info": {
   "codemirror_mode": {
    "name": "ipython",
    "version": 3
   },
   "file_extension": ".py",
   "mimetype": "text/x-python",
   "name": "python",
   "nbconvert_exporter": "python",
   "pygments_lexer": "ipython3",
   "version": "3.9.1"
  }
 },
 "nbformat": 4,
 "nbformat_minor": 2
}
